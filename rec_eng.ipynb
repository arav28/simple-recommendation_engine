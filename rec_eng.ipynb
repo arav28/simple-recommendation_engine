{
 "cells": [
  {
   "cell_type": "code",
   "execution_count": 2,
   "metadata": {},
   "outputs": [
    {
     "data": {
      "text/plain": [
       "((90570, 4), (9430, 4))"
      ]
     },
     "execution_count": 2,
     "metadata": {},
     "output_type": "execute_result"
    }
   ],
   "source": [
    "import pandas as pd\n",
    "r_cols = ['user_id', 'movie_id', 'rating', 'unix_timestamp']\n",
    "ratings_train = pd.read_csv('ua.base', sep='\\t', names=r_cols, encoding='latin-1')\n",
    "ratings_test = pd.read_csv('ua.test', sep='\\t', names=r_cols, encoding='latin-1')\n",
    "ratings_train.shape, ratings_test.shape"
   ]
  },
  {
   "cell_type": "code",
   "execution_count": 4,
   "metadata": {},
   "outputs": [
    {
     "name": "stderr",
     "output_type": "stream",
     "text": [
      "/home/aruve/anaconda3/lib/python3.6/site-packages/h5py/__init__.py:36: FutureWarning: Conversion of the second argument of issubdtype from `float` to `np.floating` is deprecated. In future, it will be treated as `np.float64 == np.dtype(float).type`.\n",
      "  from ._conv import register_converters as _register_converters\n"
     ]
    }
   ],
   "source": [
    "import turicreate\n",
    "train_data = turicreate.SFrame(ratings_train)\n",
    "test_data = turicreate.SFrame(ratings_test)"
   ]
  },
  {
   "cell_type": "code",
   "execution_count": 5,
   "metadata": {},
   "outputs": [
    {
     "data": {
      "text/html": [
       "<pre>Warning: Ignoring columns unix_timestamp;</pre>"
      ],
      "text/plain": [
       "Warning: Ignoring columns unix_timestamp;"
      ]
     },
     "metadata": {},
     "output_type": "display_data"
    },
    {
     "data": {
      "text/html": [
       "<pre>    To use these columns in scoring predictions, use a model that allows the use of additional features.</pre>"
      ],
      "text/plain": [
       "    To use these columns in scoring predictions, use a model that allows the use of additional features."
      ]
     },
     "metadata": {},
     "output_type": "display_data"
    },
    {
     "data": {
      "text/html": [
       "<pre>Preparing data set.</pre>"
      ],
      "text/plain": [
       "Preparing data set."
      ]
     },
     "metadata": {},
     "output_type": "display_data"
    },
    {
     "data": {
      "text/html": [
       "<pre>    Data has 90570 observations with 943 users and 1680 items.</pre>"
      ],
      "text/plain": [
       "    Data has 90570 observations with 943 users and 1680 items."
      ]
     },
     "metadata": {},
     "output_type": "display_data"
    },
    {
     "data": {
      "text/html": [
       "<pre>    Data prepared in: 0.110382s</pre>"
      ],
      "text/plain": [
       "    Data prepared in: 0.110382s"
      ]
     },
     "metadata": {},
     "output_type": "display_data"
    },
    {
     "data": {
      "text/html": [
       "<pre>90570 observations to process; with 1680 unique items.</pre>"
      ],
      "text/plain": [
       "90570 observations to process; with 1680 unique items."
      ]
     },
     "metadata": {},
     "output_type": "display_data"
    }
   ],
   "source": [
    "popularity_model = turicreate.popularity_recommender.create(train_data, user_id='user_id', item_id='movie_id', target='rating')"
   ]
  },
  {
   "cell_type": "code",
   "execution_count": 6,
   "metadata": {
    "scrolled": true
   },
   "outputs": [
    {
     "name": "stdout",
     "output_type": "stream",
     "text": [
      "+---------+----------+-------+------+\n",
      "| user_id | movie_id | score | rank |\n",
      "+---------+----------+-------+------+\n",
      "|    1    |   1599   |  5.0  |  1   |\n",
      "|    1    |   1201   |  5.0  |  2   |\n",
      "|    1    |   1189   |  5.0  |  3   |\n",
      "|    1    |   1122   |  5.0  |  4   |\n",
      "|    1    |   814    |  5.0  |  5   |\n",
      "|    2    |   1599   |  5.0  |  1   |\n",
      "|    2    |   1201   |  5.0  |  2   |\n",
      "|    2    |   1189   |  5.0  |  3   |\n",
      "|    2    |   1122   |  5.0  |  4   |\n",
      "|    2    |   814    |  5.0  |  5   |\n",
      "|    3    |   1599   |  5.0  |  1   |\n",
      "|    3    |   1201   |  5.0  |  2   |\n",
      "|    3    |   1189   |  5.0  |  3   |\n",
      "|    3    |   1122   |  5.0  |  4   |\n",
      "|    3    |   814    |  5.0  |  5   |\n",
      "|    4    |   1599   |  5.0  |  1   |\n",
      "|    4    |   1201   |  5.0  |  2   |\n",
      "|    4    |   1189   |  5.0  |  3   |\n",
      "|    4    |   1122   |  5.0  |  4   |\n",
      "|    4    |   814    |  5.0  |  5   |\n",
      "|    5    |   1599   |  5.0  |  1   |\n",
      "|    5    |   1201   |  5.0  |  2   |\n",
      "|    5    |   1189   |  5.0  |  3   |\n",
      "|    5    |   1122   |  5.0  |  4   |\n",
      "|    5    |   814    |  5.0  |  5   |\n",
      "+---------+----------+-------+------+\n",
      "[25 rows x 4 columns]\n",
      "\n"
     ]
    }
   ],
   "source": [
    "#user-user collaborative filtering\n",
    "popularity_recomm = popularity_model.recommend(users=[1,2,3,4,5],k=5)\n",
    "popularity_recomm.print_rows(num_rows=25)"
   ]
  },
  {
   "cell_type": "code",
   "execution_count": 7,
   "metadata": {},
   "outputs": [
    {
     "data": {
      "text/html": [
       "<pre>Warning: Ignoring columns unix_timestamp;</pre>"
      ],
      "text/plain": [
       "Warning: Ignoring columns unix_timestamp;"
      ]
     },
     "metadata": {},
     "output_type": "display_data"
    },
    {
     "data": {
      "text/html": [
       "<pre>    To use these columns in scoring predictions, use a model that allows the use of additional features.</pre>"
      ],
      "text/plain": [
       "    To use these columns in scoring predictions, use a model that allows the use of additional features."
      ]
     },
     "metadata": {},
     "output_type": "display_data"
    },
    {
     "data": {
      "text/html": [
       "<pre>Preparing data set.</pre>"
      ],
      "text/plain": [
       "Preparing data set."
      ]
     },
     "metadata": {},
     "output_type": "display_data"
    },
    {
     "data": {
      "text/html": [
       "<pre>    Data has 90570 observations with 943 users and 1680 items.</pre>"
      ],
      "text/plain": [
       "    Data has 90570 observations with 943 users and 1680 items."
      ]
     },
     "metadata": {},
     "output_type": "display_data"
    },
    {
     "data": {
      "text/html": [
       "<pre>    Data prepared in: 0.077105s</pre>"
      ],
      "text/plain": [
       "    Data prepared in: 0.077105s"
      ]
     },
     "metadata": {},
     "output_type": "display_data"
    },
    {
     "data": {
      "text/html": [
       "<pre>Training model from provided data.</pre>"
      ],
      "text/plain": [
       "Training model from provided data."
      ]
     },
     "metadata": {},
     "output_type": "display_data"
    },
    {
     "data": {
      "text/html": [
       "<pre>Gathering per-item and per-user statistics.</pre>"
      ],
      "text/plain": [
       "Gathering per-item and per-user statistics."
      ]
     },
     "metadata": {},
     "output_type": "display_data"
    },
    {
     "data": {
      "text/html": [
       "<pre>+--------------------------------+------------+</pre>"
      ],
      "text/plain": [
       "+--------------------------------+------------+"
      ]
     },
     "metadata": {},
     "output_type": "display_data"
    },
    {
     "data": {
      "text/html": [
       "<pre>| Elapsed Time (Item Statistics) | % Complete |</pre>"
      ],
      "text/plain": [
       "| Elapsed Time (Item Statistics) | % Complete |"
      ]
     },
     "metadata": {},
     "output_type": "display_data"
    },
    {
     "data": {
      "text/html": [
       "<pre>+--------------------------------+------------+</pre>"
      ],
      "text/plain": [
       "+--------------------------------+------------+"
      ]
     },
     "metadata": {},
     "output_type": "display_data"
    },
    {
     "data": {
      "text/html": [
       "<pre>| 62.406ms                       | 100        |</pre>"
      ],
      "text/plain": [
       "| 62.406ms                       | 100        |"
      ]
     },
     "metadata": {},
     "output_type": "display_data"
    },
    {
     "data": {
      "text/html": [
       "<pre>+--------------------------------+------------+</pre>"
      ],
      "text/plain": [
       "+--------------------------------+------------+"
      ]
     },
     "metadata": {},
     "output_type": "display_data"
    },
    {
     "data": {
      "text/html": [
       "<pre>Setting up lookup tables.</pre>"
      ],
      "text/plain": [
       "Setting up lookup tables."
      ]
     },
     "metadata": {},
     "output_type": "display_data"
    },
    {
     "data": {
      "text/html": [
       "<pre>Processing data in one pass using dense lookup tables.</pre>"
      ],
      "text/plain": [
       "Processing data in one pass using dense lookup tables."
      ]
     },
     "metadata": {},
     "output_type": "display_data"
    },
    {
     "data": {
      "text/html": [
       "<pre>+-------------------------------------+------------------+-----------------+</pre>"
      ],
      "text/plain": [
       "+-------------------------------------+------------------+-----------------+"
      ]
     },
     "metadata": {},
     "output_type": "display_data"
    },
    {
     "data": {
      "text/html": [
       "<pre>| Elapsed Time (Constructing Lookups) | Total % Complete | Items Processed |</pre>"
      ],
      "text/plain": [
       "| Elapsed Time (Constructing Lookups) | Total % Complete | Items Processed |"
      ]
     },
     "metadata": {},
     "output_type": "display_data"
    },
    {
     "data": {
      "text/html": [
       "<pre>+-------------------------------------+------------------+-----------------+</pre>"
      ],
      "text/plain": [
       "+-------------------------------------+------------------+-----------------+"
      ]
     },
     "metadata": {},
     "output_type": "display_data"
    },
    {
     "data": {
      "text/html": [
       "<pre>| 86.471ms                            | 0.25             | 6               |</pre>"
      ],
      "text/plain": [
       "| 86.471ms                            | 0.25             | 6               |"
      ]
     },
     "metadata": {},
     "output_type": "display_data"
    },
    {
     "data": {
      "text/html": [
       "<pre>| 249.843ms                           | 100              | 1680            |</pre>"
      ],
      "text/plain": [
       "| 249.843ms                           | 100              | 1680            |"
      ]
     },
     "metadata": {},
     "output_type": "display_data"
    },
    {
     "data": {
      "text/html": [
       "<pre>+-------------------------------------+------------------+-----------------+</pre>"
      ],
      "text/plain": [
       "+-------------------------------------+------------------+-----------------+"
      ]
     },
     "metadata": {},
     "output_type": "display_data"
    },
    {
     "data": {
      "text/html": [
       "<pre>Finalizing lookup tables.</pre>"
      ],
      "text/plain": [
       "Finalizing lookup tables."
      ]
     },
     "metadata": {},
     "output_type": "display_data"
    },
    {
     "data": {
      "text/html": [
       "<pre>Generating candidate set for working with new users.</pre>"
      ],
      "text/plain": [
       "Generating candidate set for working with new users."
      ]
     },
     "metadata": {},
     "output_type": "display_data"
    },
    {
     "data": {
      "text/html": [
       "<pre>Finished training in 1.28122s</pre>"
      ],
      "text/plain": [
       "Finished training in 1.28122s"
      ]
     },
     "metadata": {},
     "output_type": "display_data"
    },
    {
     "name": "stdout",
     "output_type": "stream",
     "text": [
      "+---------+----------+--------------------+------+\n",
      "| user_id | movie_id |       score        | rank |\n",
      "+---------+----------+--------------------+------+\n",
      "|    1    |   423    | 0.9873333652965895 |  1   |\n",
      "|    1    |   202    | 0.9431346880115625 |  2   |\n",
      "|    1    |   655    | 0.8091973273353722 |  3   |\n",
      "|    1    |   568    |  0.76769498195357  |  4   |\n",
      "|    1    |   403    | 0.7614776537618564 |  5   |\n",
      "|    2    |    50    | 1.1256258487701416 |  1   |\n",
      "|    2    |   181    | 1.0272409457426805 |  2   |\n",
      "|    2    |    7     | 1.0196515367581294 |  3   |\n",
      "|    2    |   121    | 0.9025371510248917 |  4   |\n",
      "|    2    |    9     | 0.831989913032605  |  5   |\n",
      "|    3    |   313    | 0.6353766620159149 |  1   |\n",
      "|    3    |   328    | 0.6032880300825293 |  2   |\n",
      "|    3    |   315    | 0.5422587123784152 |  3   |\n",
      "|    3    |   331    | 0.5355071858926252 |  4   |\n",
      "|    3    |   332    | 0.5316696112806146 |  5   |\n",
      "|    4    |    50    | 1.1311477082116264 |  1   |\n",
      "|    4    |   288    | 1.0487151145935059 |  2   |\n",
      "|    4    |   181    | 0.9505999386310577 |  3   |\n",
      "|    4    |    7     |  0.9417778807027   |  4   |\n",
      "|    4    |   302    | 0.9139021464756557 |  5   |\n",
      "|    5    |   195    | 1.0158377741322373 |  1   |\n",
      "|    5    |   202    | 0.9353599468866984 |  2   |\n",
      "|    5    |    56    | 0.8479394096316714 |  3   |\n",
      "|    5    |    82    | 0.7464920130642978 |  4   |\n",
      "|    5    |    96    | 0.7322583585074454 |  5   |\n",
      "+---------+----------+--------------------+------+\n",
      "[25 rows x 4 columns]\n",
      "\n"
     ]
    }
   ],
   "source": [
    "#Item-Item collaborative filtering\n",
    "#Training the model\n",
    "item_sim_model = turicreate.item_similarity_recommender.create(train_data, user_id='user_id', item_id='movie_id', target='rating', similarity_type='cosine')\n",
    "\n",
    "#Making recommendations\n",
    "item_sim_recomm = item_sim_model.recommend(users=[1,2,3,4,5],k=5)\n",
    "item_sim_recomm.print_rows(num_rows=25)"
   ]
  }
 ],
 "metadata": {
  "kernelspec": {
   "display_name": "Python 3",
   "language": "python",
   "name": "python3"
  },
  "language_info": {
   "codemirror_mode": {
    "name": "ipython",
    "version": 3
   },
   "file_extension": ".py",
   "mimetype": "text/x-python",
   "name": "python",
   "nbconvert_exporter": "python",
   "pygments_lexer": "ipython3",
   "version": "3.6.5"
  }
 },
 "nbformat": 4,
 "nbformat_minor": 2
}
